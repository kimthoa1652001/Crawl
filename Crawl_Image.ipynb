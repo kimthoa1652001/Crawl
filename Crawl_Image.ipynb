{
  "nbformat": 4,
  "nbformat_minor": 0,
  "metadata": {
    "colab": {
      "name": "Crawl_Image.ipynb",
      "provenance": []
    },
    "kernelspec": {
      "name": "python3",
      "display_name": "Python 3"
    },
    "language_info": {
      "name": "python"
    }
  },
  "cells": [
    {
      "cell_type": "code",
      "execution_count": null,
      "metadata": {
        "colab": {
          "base_uri": "https://localhost:8080/"
        },
        "id": "rXvu6ZhHT00y",
        "outputId": "11483574-d5c4-447e-b622-c23b801525b2"
      },
      "outputs": [
        {
          "output_type": "stream",
          "name": "stdout",
          "text": [
            "\u001b[33m\r0% [Working]\u001b[0m\r            \rGet:1 http://security.ubuntu.com/ubuntu bionic-security InRelease [88.7 kB]\n",
            "\u001b[33m\r0% [Waiting for headers] [1 InRelease 14.2 kB/88.7 kB 16%] [Connected to cloud.\u001b[0m\r                                                                               \rHit:2 http://archive.ubuntu.com/ubuntu bionic InRelease\n",
            "\u001b[33m\r0% [1 InRelease 43.1 kB/88.7 kB 49%] [Connected to cloud.r-project.org (108.157\u001b[0m\u001b[33m\r0% [2 InRelease gpgv 242 kB] [Waiting for headers] [1 InRelease 43.1 kB/88.7 kB\u001b[0m\r                                                                               \rGet:3 https://cloud.r-project.org/bin/linux/ubuntu bionic-cran40/ InRelease [3,626 B]\n",
            "Get:4 http://archive.ubuntu.com/ubuntu bionic-updates InRelease [88.7 kB]\n",
            "Ign:5 https://developer.download.nvidia.com/compute/cuda/repos/ubuntu1804/x86_64  InRelease\n",
            "Get:6 http://ppa.launchpad.net/c2d4u.team/c2d4u4.0+/ubuntu bionic InRelease [15.9 kB]\n",
            "Ign:7 https://developer.download.nvidia.com/compute/machine-learning/repos/ubuntu1804/x86_64  InRelease\n",
            "Get:8 http://archive.ubuntu.com/ubuntu bionic-backports InRelease [74.6 kB]\n",
            "Get:9 https://developer.download.nvidia.com/compute/cuda/repos/ubuntu1804/x86_64  Release [696 B]\n",
            "Hit:10 https://developer.download.nvidia.com/compute/machine-learning/repos/ubuntu1804/x86_64  Release\n",
            "Get:11 https://developer.download.nvidia.com/compute/cuda/repos/ubuntu1804/x86_64  Release.gpg [836 B]\n",
            "Hit:12 http://ppa.launchpad.net/cran/libgit2/ubuntu bionic InRelease\n",
            "Get:13 http://ppa.launchpad.net/deadsnakes/ppa/ubuntu bionic InRelease [15.9 kB]\n",
            "Get:14 http://security.ubuntu.com/ubuntu bionic-security/restricted amd64 Packages [907 kB]\n",
            "Hit:15 http://ppa.launchpad.net/graphics-drivers/ppa/ubuntu bionic InRelease\n",
            "Get:16 http://security.ubuntu.com/ubuntu bionic-security/main amd64 Packages [2,726 kB]\n",
            "Get:17 http://security.ubuntu.com/ubuntu bionic-security/universe amd64 Packages [1,495 kB]\n",
            "Get:18 http://archive.ubuntu.com/ubuntu bionic-updates/main amd64 Packages [3,165 kB]\n",
            "Get:19 http://archive.ubuntu.com/ubuntu bionic-updates/restricted amd64 Packages [941 kB]\n",
            "Get:20 http://archive.ubuntu.com/ubuntu bionic-updates/universe amd64 Packages [2,272 kB]\n",
            "Get:22 https://developer.download.nvidia.com/compute/cuda/repos/ubuntu1804/x86_64  Packages [953 kB]\n",
            "Get:23 http://ppa.launchpad.net/c2d4u.team/c2d4u4.0+/ubuntu bionic/main Sources [1,947 kB]\n",
            "Get:24 http://ppa.launchpad.net/c2d4u.team/c2d4u4.0+/ubuntu bionic/main amd64 Packages [996 kB]\n",
            "Get:25 http://ppa.launchpad.net/deadsnakes/ppa/ubuntu bionic/main amd64 Packages [45.3 kB]\n",
            "Fetched 15.7 MB in 4s (3,507 kB/s)\n",
            "Reading package lists... Done\n",
            "Building dependency tree       \n",
            "Reading state information... Done\n",
            "47 packages can be upgraded. Run 'apt list --upgradable' to see them.\n",
            "Reading package lists... Done\n",
            "Building dependency tree       \n",
            "Reading state information... Done\n",
            "The following additional packages will be installed:\n",
            "  chromium-browser chromium-browser-l10n chromium-codecs-ffmpeg-extra\n",
            "Suggested packages:\n",
            "  webaccounts-chromium-extension unity-chromium-extension\n",
            "The following NEW packages will be installed:\n",
            "  chromium-browser chromium-browser-l10n chromium-chromedriver\n",
            "  chromium-codecs-ffmpeg-extra\n",
            "0 upgraded, 4 newly installed, 0 to remove and 47 not upgraded.\n",
            "Need to get 88.3 MB of archives.\n",
            "After this operation, 294 MB of additional disk space will be used.\n",
            "Get:1 http://archive.ubuntu.com/ubuntu bionic-updates/universe amd64 chromium-codecs-ffmpeg-extra amd64 99.0.4844.84-0ubuntu0.18.04.1 [1,142 kB]\n",
            "Get:2 http://archive.ubuntu.com/ubuntu bionic-updates/universe amd64 chromium-browser amd64 99.0.4844.84-0ubuntu0.18.04.1 [77.7 MB]\n",
            "Get:3 http://archive.ubuntu.com/ubuntu bionic-updates/universe amd64 chromium-browser-l10n all 99.0.4844.84-0ubuntu0.18.04.1 [4,397 kB]\n",
            "Get:4 http://archive.ubuntu.com/ubuntu bionic-updates/universe amd64 chromium-chromedriver amd64 99.0.4844.84-0ubuntu0.18.04.1 [5,092 kB]\n",
            "Fetched 88.3 MB in 2s (47.6 MB/s)\n",
            "Selecting previously unselected package chromium-codecs-ffmpeg-extra.\n",
            "(Reading database ... 155455 files and directories currently installed.)\n",
            "Preparing to unpack .../chromium-codecs-ffmpeg-extra_99.0.4844.84-0ubuntu0.18.04.1_amd64.deb ...\n",
            "Unpacking chromium-codecs-ffmpeg-extra (99.0.4844.84-0ubuntu0.18.04.1) ...\n",
            "Selecting previously unselected package chromium-browser.\n",
            "Preparing to unpack .../chromium-browser_99.0.4844.84-0ubuntu0.18.04.1_amd64.deb ...\n",
            "Unpacking chromium-browser (99.0.4844.84-0ubuntu0.18.04.1) ...\n",
            "Selecting previously unselected package chromium-browser-l10n.\n",
            "Preparing to unpack .../chromium-browser-l10n_99.0.4844.84-0ubuntu0.18.04.1_all.deb ...\n",
            "Unpacking chromium-browser-l10n (99.0.4844.84-0ubuntu0.18.04.1) ...\n",
            "Selecting previously unselected package chromium-chromedriver.\n",
            "Preparing to unpack .../chromium-chromedriver_99.0.4844.84-0ubuntu0.18.04.1_amd64.deb ...\n",
            "Unpacking chromium-chromedriver (99.0.4844.84-0ubuntu0.18.04.1) ...\n",
            "Setting up chromium-codecs-ffmpeg-extra (99.0.4844.84-0ubuntu0.18.04.1) ...\n",
            "Setting up chromium-browser (99.0.4844.84-0ubuntu0.18.04.1) ...\n",
            "update-alternatives: using /usr/bin/chromium-browser to provide /usr/bin/x-www-browser (x-www-browser) in auto mode\n",
            "update-alternatives: using /usr/bin/chromium-browser to provide /usr/bin/gnome-www-browser (gnome-www-browser) in auto mode\n",
            "Setting up chromium-chromedriver (99.0.4844.84-0ubuntu0.18.04.1) ...\n",
            "Setting up chromium-browser-l10n (99.0.4844.84-0ubuntu0.18.04.1) ...\n",
            "Processing triggers for man-db (2.8.3-2ubuntu0.1) ...\n",
            "Processing triggers for hicolor-icon-theme (0.17-2) ...\n",
            "Processing triggers for mime-support (3.60ubuntu1) ...\n",
            "Processing triggers for libc-bin (2.27-3ubuntu1.3) ...\n",
            "/sbin/ldconfig.real: /usr/local/lib/python3.7/dist-packages/ideep4py/lib/libmkldnn.so.0 is not a symbolic link\n",
            "\n",
            "Collecting selenium\n",
            "  Downloading selenium-4.1.3-py3-none-any.whl (968 kB)\n",
            "\u001b[K     |████████████████████████████████| 968 kB 5.0 MB/s \n",
            "\u001b[?25hCollecting urllib3[secure,socks]~=1.26\n",
            "  Downloading urllib3-1.26.9-py2.py3-none-any.whl (138 kB)\n",
            "\u001b[K     |████████████████████████████████| 138 kB 44.9 MB/s \n",
            "\u001b[?25hCollecting trio-websocket~=0.9\n",
            "  Downloading trio_websocket-0.9.2-py3-none-any.whl (16 kB)\n",
            "Collecting trio~=0.17\n",
            "  Downloading trio-0.20.0-py3-none-any.whl (359 kB)\n",
            "\u001b[K     |████████████████████████████████| 359 kB 44.4 MB/s \n",
            "\u001b[?25hRequirement already satisfied: idna in /usr/local/lib/python3.7/dist-packages (from trio~=0.17->selenium) (2.10)\n",
            "Collecting async-generator>=1.9\n",
            "  Downloading async_generator-1.10-py3-none-any.whl (18 kB)\n",
            "Collecting outcome\n",
            "  Downloading outcome-1.1.0-py2.py3-none-any.whl (9.7 kB)\n",
            "Requirement already satisfied: attrs>=19.2.0 in /usr/local/lib/python3.7/dist-packages (from trio~=0.17->selenium) (21.4.0)\n",
            "Collecting sniffio\n",
            "  Downloading sniffio-1.2.0-py3-none-any.whl (10 kB)\n",
            "Requirement already satisfied: sortedcontainers in /usr/local/lib/python3.7/dist-packages (from trio~=0.17->selenium) (2.4.0)\n",
            "Collecting wsproto>=0.14\n",
            "  Downloading wsproto-1.1.0-py3-none-any.whl (24 kB)\n",
            "Collecting pyOpenSSL>=0.14\n",
            "  Downloading pyOpenSSL-22.0.0-py2.py3-none-any.whl (55 kB)\n",
            "\u001b[K     |████████████████████████████████| 55 kB 3.9 MB/s \n",
            "\u001b[?25hRequirement already satisfied: certifi in /usr/local/lib/python3.7/dist-packages (from urllib3[secure,socks]~=1.26->selenium) (2021.10.8)\n",
            "Collecting cryptography>=1.3.4\n",
            "  Downloading cryptography-36.0.2-cp36-abi3-manylinux_2_24_x86_64.whl (3.6 MB)\n",
            "\u001b[K     |████████████████████████████████| 3.6 MB 49.9 MB/s \n",
            "\u001b[?25hRequirement already satisfied: PySocks!=1.5.7,<2.0,>=1.5.6 in /usr/local/lib/python3.7/dist-packages (from urllib3[secure,socks]~=1.26->selenium) (1.7.1)\n",
            "Requirement already satisfied: cffi>=1.12 in /usr/local/lib/python3.7/dist-packages (from cryptography>=1.3.4->urllib3[secure,socks]~=1.26->selenium) (1.15.0)\n",
            "Requirement already satisfied: pycparser in /usr/local/lib/python3.7/dist-packages (from cffi>=1.12->cryptography>=1.3.4->urllib3[secure,socks]~=1.26->selenium) (2.21)\n",
            "Collecting h11<1,>=0.9.0\n",
            "  Downloading h11-0.13.0-py3-none-any.whl (58 kB)\n",
            "\u001b[K     |████████████████████████████████| 58 kB 5.1 MB/s \n",
            "\u001b[?25hRequirement already satisfied: typing-extensions in /usr/local/lib/python3.7/dist-packages (from h11<1,>=0.9.0->wsproto>=0.14->trio-websocket~=0.9->selenium) (4.1.1)\n",
            "Installing collected packages: sniffio, outcome, h11, cryptography, async-generator, wsproto, urllib3, trio, pyOpenSSL, trio-websocket, selenium\n",
            "  Attempting uninstall: urllib3\n",
            "    Found existing installation: urllib3 1.24.3\n",
            "    Uninstalling urllib3-1.24.3:\n",
            "      Successfully uninstalled urllib3-1.24.3\n",
            "\u001b[31mERROR: pip's dependency resolver does not currently take into account all the packages that are installed. This behaviour is the source of the following dependency conflicts.\n",
            "requests 2.23.0 requires urllib3!=1.25.0,!=1.25.1,<1.26,>=1.21.1, but you have urllib3 1.26.9 which is incompatible.\n",
            "datascience 0.10.6 requires folium==0.2.1, but you have folium 0.8.3 which is incompatible.\u001b[0m\n",
            "Successfully installed async-generator-1.10 cryptography-36.0.2 h11-0.13.0 outcome-1.1.0 pyOpenSSL-22.0.0 selenium-4.1.3 sniffio-1.2.0 trio-0.20.0 trio-websocket-0.9.2 urllib3-1.26.9 wsproto-1.1.0\n"
          ]
        }
      ],
      "source": [
        "!apt update\n",
        "!apt install chromium-chromedriver\n",
        "!pip install selenium"
      ]
    },
    {
      "cell_type": "code",
      "source": [
        "from selenium import webdriver\n",
        "from bs4 import BeautifulSoup\n",
        "import requests \n",
        "import csv\n",
        "import pandas as pd\n",
        "import time\n",
        "import os\n",
        "from selenium.common.exceptions import ElementClickInterceptedException"
      ],
      "metadata": {
        "id": "qONpkNlXUqPo"
      },
      "execution_count": null,
      "outputs": []
    },
    {
      "cell_type": "code",
      "source": [
        "options = webdriver.ChromeOptions()\n",
        "options.add_argument('--headless')\n",
        "options.add_argument('--no-sandbox')\n",
        "options.add_argument('--disable-dev-shm-usage')"
      ],
      "metadata": {
        "id": "SEbXenarU_b4"
      },
      "execution_count": null,
      "outputs": []
    },
    {
      "cell_type": "code",
      "source": [
        "driver = webdriver.Chrome(options=options)\n",
        "url = 'https://www.google.com/search?q=dog&rlz=1C5CHFA_enVN921VN921&source=lnms&tbm=isch&sa=X&ved=2ahUKEwiYnfio1v_2AhUHwosBHdvHBKgQ_AUoAXoECAIQAw&biw=1280&bih=721&dpr=2'\n",
        "driver.get(url)\n",
        "soup = BeautifulSoup(driver.page_source,'html.parser')"
      ],
      "metadata": {
        "id": "zghnT34WU9zi"
      },
      "execution_count": null,
      "outputs": []
    },
    {
      "cell_type": "code",
      "source": [
        "imgResults = driver.find_elements_by_xpath(\"//img[contains(@class,'Q4LuWd')]\")\n",
        "totalResults=len(imgResults)\n",
        "print(totalResults)"
      ],
      "metadata": {
        "colab": {
          "base_uri": "https://localhost:8080/"
        },
        "id": "QkmWj1m3GCZU",
        "outputId": "d94cb9ed-880a-408a-c9c8-b6e665eefc8d"
      },
      "execution_count": null,
      "outputs": [
        {
          "output_type": "stream",
          "name": "stdout",
          "text": [
            "48\n"
          ]
        },
        {
          "output_type": "stream",
          "name": "stderr",
          "text": [
            "/usr/local/lib/python3.7/dist-packages/ipykernel_launcher.py:1: DeprecationWarning: find_elements_by_xpath is deprecated. Please use find_elements(by=By.XPATH, value=xpath) instead\n",
            "  \"\"\"Entry point for launching an IPython kernel.\n"
          ]
        }
      ]
    },
    {
      "cell_type": "code",
      "source": [
        "img_urls = set()\n",
        "for i in  range(0,len(imgResults)):\n",
        "    img=imgResults[i]\n",
        "    try:\n",
        "        img.click()\n",
        "        actual_images = driver.find_elements_by_css_selector('img.n3VNCb')\n",
        "        #print(actual_images)\n",
        "        for actual_image in actual_images:\n",
        "            #print(actual_image.get_attribute('src'))\n",
        "            if actual_image.get_attribute('src') and 'https' in actual_image.get_attribute('src'):\n",
        "                print(actual_image.get_attribute('src'))\n",
        "                img_urls.add(actual_image.get_attribute('src'))\n",
        "    except ElementClickInterceptedException or ElementNotInteractableException as err:\n",
        "        pass"
      ],
      "metadata": {
        "colab": {
          "base_uri": "https://localhost:8080/"
        },
        "id": "EBwEZzrbKbSe",
        "outputId": "743603a2-ba42-4676-8331-1af06e6f1d65"
      },
      "execution_count": null,
      "outputs": [
        {
          "output_type": "stream",
          "name": "stderr",
          "text": [
            "/usr/local/lib/python3.7/dist-packages/ipykernel_launcher.py:6: DeprecationWarning: find_elements_by_css_selector is deprecated. Please use find_elements(by=By.CSS_SELECTOR, value=css_selector) instead\n",
            "  \n"
          ]
        },
        {
          "output_type": "stream",
          "name": "stdout",
          "text": [
            "https://post.medicalnewstoday.com/wp-content/uploads/sites/3/2020/02/322868_1100-800x825.jpg\n",
            "https://i.guim.co.uk/img/media/fe1e34da640c5c56ed16f76ce6f994fa9343d09d/0_174_3408_2046/master/3408.jpg?width=1200&height=900&quality=85&auto=format&fit=crop&s=0d3f33fb6aa6e0154b7713a00454c83d\n",
            "https://hips.hearstapps.com/hmg-prod.s3.amazonaws.com/images/dog-puppy-on-garden-royalty-free-image-1586966191.jpg?crop=1.00xw:0.669xh;0,0.190xh&resize=1200:*\n",
            "https://i.natgeofe.com/n/4f5aaece-3300-41a4-b2a8-ed2708a0a27c/domestic-dog_thumb_4x3.jpg\n",
            "https://www.princeton.edu/sites/default/files/styles/half_2x/public/images/2022/02/KOA_Nassau_2697x1517.jpg?itok=iQEwihUn\n",
            "https://hips.hearstapps.com/hmg-prod.s3.amazonaws.com/images/golden-retriever-royalty-free-image-506756303-1560962726.jpg?crop=0.672xw:1.00xh;0.166xw,0&resize=640:*\n",
            "https://dynaimage.cdn.cnn.com/cnn/c_fill,g_auto,w_1200,h_675,ar_16:9/https%3A%2F%2Fcdn.cnn.com%2Fcnnnext%2Fdam%2Fassets%2F201030094143-stock-rhodesian-ridgeback.jpg\n",
            "https://i.insider.com/5484d9d1eab8ea3017b17e29?width=600&format=jpeg&auto=webp\n",
            "https://imageio.forbes.com/specials-images/imageserve/5db4c7b464b49a0007e9dfac/Photo-of-Maltese-dog/960x0.jpg?fit=bounds&format=jpg&width=960\n",
            "https://media.wired.co.uk/photos/606d9c691e0ddb19555fb809/16:9/w_2992,h_1683,c_limit/dog-unsolicited.jpg\n",
            "https://i.ytimg.com/vi/MPV2METPeJU/maxresdefault.jpg\n",
            "https://www.thesprucepets.com/thmb/k3NXIqobAKvxoQ2ozGcwPxzIkpI=/3300x1856/smart/filters:no_upscale()/most-obedient-dog-breeds-4796922-hero-4440a0ccec0e42c98c5e58821fc9f165.jpg\n",
            "https://m.media-amazon.com/images/M/MV5BYjA2MDM2YjctYzNhNC00NGEzLWFmYWEtODExODFkNmUyOGE2XkEyXkFqcGdeQXVyODk2NDQ3MTA@._V1_FMjpg_UX1000_.jpg\n",
            "https://cdn.britannica.com/49/161649-050-3F458ECF/Bernese-mountain-dog-grass.jpg?q=60\n",
            "https://www.akc.org/wp-content/uploads/2017/11/Golden-Retriever-Puppy.jpg\n",
            "https://encrypted-tbn0.gstatic.com/images?q=tbn:ANd9GcQwTm70FoHmjVbsfSPWePc5hucK7fsWI2c7yQ&usqp=CAU\n",
            "https://i.natgeofe.com/n/5f35194b-af37-4f45-a14d-60925b280986/NationalGeographic_2731043_4x3.jpg\n",
            "https://encrypted-tbn0.gstatic.com/images?q=tbn:ANd9GcSzVW7f_z9-fYJr46Phx0hc03lkOQSR7NQIKA&usqp=CAU\n",
            "https://encrypted-tbn0.gstatic.com/images?q=tbn:ANd9GcQwTm70FoHmjVbsfSPWePc5hucK7fsWI2c7yQ&usqp=CAU\n",
            "https://encrypted-tbn0.gstatic.com/images?q=tbn:ANd9GcSzVW7f_z9-fYJr46Phx0hc03lkOQSR7NQIKA&usqp=CAU\n",
            "https://encrypted-tbn0.gstatic.com/images?q=tbn:ANd9GcTgLorwzPiAb8uRuhcj_pJ9tOz3QDFzPzlfJA&usqp=CAU\n",
            "https://encrypted-tbn0.gstatic.com/images?q=tbn:ANd9GcSzVW7f_z9-fYJr46Phx0hc03lkOQSR7NQIKA&usqp=CAU\n",
            "https://post.healthline.com/wp-content/uploads/2020/08/3180-Pug_green_grass-732x549-thumbnail-732x549.jpg\n",
            "https://encrypted-tbn0.gstatic.com/images?q=tbn:ANd9GcT36OGUq8X23zUYSRF3TEcQCcZbxdZvIphwcQ&usqp=CAU\n",
            "https://encrypted-tbn0.gstatic.com/images?q=tbn:ANd9GcTgLorwzPiAb8uRuhcj_pJ9tOz3QDFzPzlfJA&usqp=CAU\n",
            "https://www.akcpetinsurance.com/res/akc/images/icons/home/home_dog.png\n",
            "https://encrypted-tbn0.gstatic.com/images?q=tbn:ANd9GcRMait-HCMjXzfPvIFLffCidNp_aSZ9J0DGTQ&usqp=CAU\n",
            "https://encrypted-tbn0.gstatic.com/images?q=tbn:ANd9GcT36OGUq8X23zUYSRF3TEcQCcZbxdZvIphwcQ&usqp=CAU\n",
            "https://cdn.vox-cdn.com/thumbor/CqsS8CZJVT1wcu_OCdGxcdPIPgg=/1400x1050/filters:format(jpeg)/cdn.vox-cdn.com/uploads/chorus_asset/file/21768855/pop_culter_dog_rank_alyceatinoyan_feature.jpg\n",
            "https://encrypted-tbn0.gstatic.com/images?q=tbn:ANd9GcShgWaNfISOA9x1HAn1OkST9Ss0XB4JtrJRhw&usqp=CAU\n",
            "https://encrypted-tbn0.gstatic.com/images?q=tbn:ANd9GcShgWaNfISOA9x1HAn1OkST9Ss0XB4JtrJRhw&usqp=CAU\n",
            "https://media.nature.com/lw1024/magazine-assets/d41586-022-00209-0/d41586-022-00209-0_20071824.jpg\n",
            "https://encrypted-tbn0.gstatic.com/images?q=tbn:ANd9GcQ7OvUa3anM324dxaV4d6J8M4b7SdZiFSrYdw&usqp=CAU\n",
            "https://encrypted-tbn0.gstatic.com/images?q=tbn:ANd9GcQ7OvUa3anM324dxaV4d6J8M4b7SdZiFSrYdw&usqp=CAU\n",
            "https://www.gannett-cdn.com/media/2021/06/03/USATODAY/usatsports/imageForEntry18-8on.jpg?width=2560\n",
            "https://encrypted-tbn0.gstatic.com/images?q=tbn:ANd9GcRy-rjRO4reDCYkdHGLEnoDPacstC_3Zc-KXw&usqp=CAU\n",
            "https://encrypted-tbn0.gstatic.com/images?q=tbn:ANd9GcS66EeVBELXd8Ei_r6RXEJ9FCisZnndVQHbHA&usqp=CAU\n",
            "https://www.guidedogs.org/wp-content/uploads/2021/11/01.11.2021_SGD1014-Edit-scaled.jpg\n",
            "https://encrypted-tbn0.gstatic.com/images?q=tbn:ANd9GcQNvqqL_TOgoTFmsmDQLXaCtJ3JgoqcZixsgA&usqp=CAU\n",
            "https://encrypted-tbn0.gstatic.com/images?q=tbn:ANd9GcRy-rjRO4reDCYkdHGLEnoDPacstC_3Zc-KXw&usqp=CAU\n",
            "https://d.newsweek.com/en/full/1872567/file-photo-dog-leash.jpg\n",
            "https://encrypted-tbn0.gstatic.com/images?q=tbn:ANd9GcQ64iVaaqvCAtO--zTfJIzfKb_N145B_WyQlQ&usqp=CAU\n",
            "https://encrypted-tbn0.gstatic.com/images?q=tbn:ANd9GcQNvqqL_TOgoTFmsmDQLXaCtJ3JgoqcZixsgA&usqp=CAU\n",
            "https://encrypted-tbn0.gstatic.com/images?q=tbn:ANd9GcQ64iVaaqvCAtO--zTfJIzfKb_N145B_WyQlQ&usqp=CAU\n",
            "https://encrypted-tbn0.gstatic.com/images?q=tbn:ANd9GcTGWQT5tUV3pkyiai1EnGcgrqRvVzxg7xtBHg&usqp=CAU\n",
            "https://encrypted-tbn0.gstatic.com/images?q=tbn:ANd9GcQ64iVaaqvCAtO--zTfJIzfKb_N145B_WyQlQ&usqp=CAU\n",
            "https://media.nature.com/lw800/magazine-assets/d41586-020-01430-5/d41586-020-01430-5_17977552.jpg\n",
            "https://encrypted-tbn0.gstatic.com/images?q=tbn:ANd9GcTwQl1K64iaP-Scgn56GGAWJcvHGTNwpC2HPQ&usqp=CAU\n",
            "https://encrypted-tbn0.gstatic.com/images?q=tbn:ANd9GcTwQl1K64iaP-Scgn56GGAWJcvHGTNwpC2HPQ&usqp=CAU\n",
            "https://encrypted-tbn0.gstatic.com/images?q=tbn:ANd9GcS3aafGt0LRhdmy4NTfLq7gO7U7XMR-P2VT3w&usqp=CAU\n",
            "https://encrypted-tbn0.gstatic.com/images?q=tbn:ANd9GcQTY0LUent9CKrig-nk_GCScrEK1w_nT6lVRQ&usqp=CAU\n",
            "https://encrypted-tbn0.gstatic.com/images?q=tbn:ANd9GcS3aafGt0LRhdmy4NTfLq7gO7U7XMR-P2VT3w&usqp=CAU\n",
            "https://static01.nyt.com/images/2022/02/08/science/27DOG-GENES/27DOG-GENES-facebookJumbo.jpg\n",
            "https://encrypted-tbn0.gstatic.com/images?q=tbn:ANd9GcSfx__RoRYzLDgXDiJxYGxLihJC4zoqV3V0xg&usqp=CAU\n",
            "https://encrypted-tbn0.gstatic.com/images?q=tbn:ANd9GcSfx__RoRYzLDgXDiJxYGxLihJC4zoqV3V0xg&usqp=CAU\n",
            "https://images.unsplash.com/photo-1565194481104-39d1ee1b8bcc?ixlib=rb-1.2.1&ixid=MnwxMjA3fDB8MHxleHBsb3JlLWZlZWR8MXx8fGVufDB8fHx8&w=1000&q=80\n",
            "https://encrypted-tbn0.gstatic.com/images?q=tbn:ANd9GcRYfkKJywC2TJjE8kuJpPJf9UW3ai6sA27R6g&usqp=CAU\n",
            "https://encrypted-tbn0.gstatic.com/images?q=tbn:ANd9GcQmFhbiPt6rniLA4BDhliNv6C-1k6eqcLpaMQ&usqp=CAU\n",
            "https://media-cldnry.s-nbcnews.com/image/upload/t_fit-760w,f_auto,q_auto:best/streams/2013/May/130522/6C7536084-g-hlt-120105-puppy-423p.jpg\n",
            "https://encrypted-tbn0.gstatic.com/images?q=tbn:ANd9GcRWAhEEHxFYgBxUXnyvWGggO1tKhAVrAwRj6Q&usqp=CAU\n",
            "https://encrypted-tbn0.gstatic.com/images?q=tbn:ANd9GcRYfkKJywC2TJjE8kuJpPJf9UW3ai6sA27R6g&usqp=CAU\n",
            "https://cdn.mos.cms.futurecdn.net/Ev3irSe2WxYCdyGSx6rDES-320-80.jpg\n",
            "https://encrypted-tbn0.gstatic.com/images?q=tbn:ANd9GcTTaZiTLBBh7kGN2oBfh5gLtw-3vIR-8wVi6A&usqp=CAU\n",
            "https://encrypted-tbn0.gstatic.com/images?q=tbn:ANd9GcRWAhEEHxFYgBxUXnyvWGggO1tKhAVrAwRj6Q&usqp=CAU\n",
            "https://www.aaha.org/contentassets/e3033f0ae87246cbb1ef8136c13d508f/imagehywzk.png\n",
            "https://encrypted-tbn0.gstatic.com/images?q=tbn:ANd9GcRQjQctxivXU8M5O6O-IPdcZOofbGbtCnpeVg&usqp=CAU\n",
            "https://encrypted-tbn0.gstatic.com/images?q=tbn:ANd9GcTTaZiTLBBh7kGN2oBfh5gLtw-3vIR-8wVi6A&usqp=CAU\n",
            "https://i.natgeofe.com/n/3faa2b6a-f351-4995-8fff-36d145116882/domestic-dog_16x9.jpg\n",
            "https://encrypted-tbn0.gstatic.com/images?q=tbn:ANd9GcQseO1lh-JiMz3LXI1VTNwBIMtldPOenHbzeQ&usqp=CAU\n",
            "https://encrypted-tbn0.gstatic.com/images?q=tbn:ANd9GcRQjQctxivXU8M5O6O-IPdcZOofbGbtCnpeVg&usqp=CAU\n",
            "https://media.wfaa.com/assets/WFAA/images/3caff6e6-8190-421f-af05-d2fe9783d925/3caff6e6-8190-421f-af05-d2fe9783d925_1920x1080.jpg\n",
            "https://encrypted-tbn0.gstatic.com/images?q=tbn:ANd9GcT5X_AXY3UKkd55H0aXWT6nK1TMHMxA0pzcKQ&usqp=CAU\n",
            "https://encrypted-tbn0.gstatic.com/images?q=tbn:ANd9GcQseO1lh-JiMz3LXI1VTNwBIMtldPOenHbzeQ&usqp=CAU\n",
            "https://chico.ca.us/sites/main/files/imagecache/lightbox/main-images/dog_license.jpg\n",
            "https://encrypted-tbn0.gstatic.com/images?q=tbn:ANd9GcQ2FerpFmr1wWnl10rfAwv0LEGog2cMt7GEnQ&usqp=CAU\n",
            "https://encrypted-tbn0.gstatic.com/images?q=tbn:ANd9GcQ2FerpFmr1wWnl10rfAwv0LEGog2cMt7GEnQ&usqp=CAU\n",
            "https://www.akc.org/wp-content/uploads/2018/11/Grooming-tips-from-experts-hero.jpg\n",
            "https://encrypted-tbn0.gstatic.com/images?q=tbn:ANd9GcS-f6C75719Ua-Lt7G-rPGN9Ud7oChTEBEuVQ&usqp=CAU\n",
            "https://encrypted-tbn0.gstatic.com/images?q=tbn:ANd9GcTiLVLnCwenBsArkSI8m3-qSxmFBBgGlooGig&usqp=CAU\n",
            "https://static01.nyt.com/images/2021/11/16/well/11Well-NL-DOG-SLEEP/11Well-NL-DOG-SLEEP-mediumSquareAt3X.jpg\n",
            "https://encrypted-tbn0.gstatic.com/images?q=tbn:ANd9GcQS7IhaWgwXqgrHZVlYaWSLek50VtYlPPvZuA&usqp=CAU\n",
            "https://encrypted-tbn0.gstatic.com/images?q=tbn:ANd9GcS-f6C75719Ua-Lt7G-rPGN9Ud7oChTEBEuVQ&usqp=CAU\n",
            "https://encrypted-tbn0.gstatic.com/images?q=tbn:ANd9GcQS7IhaWgwXqgrHZVlYaWSLek50VtYlPPvZuA&usqp=CAU\n",
            "https://encrypted-tbn0.gstatic.com/images?q=tbn:ANd9GcTCpp9VTPTmERrchKFZR6Uj8gz_Y6dmvUuDBg&usqp=CAU\n"
          ]
        }
      ]
    },
    {
      "cell_type": "code",
      "source": [
        "Image_Folder = 'image'\n",
        "os.mkdir(Image_Folder)\n",
        "for i, imagelink in enumerate(img_urls):\n",
        "        # open each image link and save the file\n",
        "      response = requests.get(imagelink)\n",
        "        \n",
        "      imagename = Image_Folder + '/' + 'dog' + str(i+1) + '.jpg'\n",
        "      with open(imagename, 'wb') as file:\n",
        "            file.write(response.content)"
      ],
      "metadata": {
        "id": "BolmKPC1L2Cc"
      },
      "execution_count": null,
      "outputs": []
    },
    {
      "cell_type": "code",
      "source": [
        "!zip -r image.zip image/"
      ],
      "metadata": {
        "colab": {
          "base_uri": "https://localhost:8080/"
        },
        "id": "dHLvtw8gw9Va",
        "outputId": "bd5c87f1-3103-4788-a489-acc4747db9ee"
      },
      "execution_count": null,
      "outputs": [
        {
          "output_type": "stream",
          "name": "stdout",
          "text": [
            "  adding: image/ (stored 0%)\n",
            "  adding: image/dog31.jpg (deflated 0%)\n",
            "  adding: image/dog19.jpg (deflated 0%)\n",
            "  adding: image/dog46.jpg (deflated 0%)\n",
            "  adding: image/dog30.jpg (deflated 1%)\n",
            "  adding: image/dog27.jpg (deflated 2%)\n",
            "  adding: image/dog3.jpg (deflated 0%)\n",
            "  adding: image/dog14.jpg (deflated 1%)\n",
            "  adding: image/dog10.jpg (deflated 0%)\n",
            "  adding: image/dog39.jpg (deflated 0%)\n",
            "  adding: image/dog1.jpg (deflated 0%)\n",
            "  adding: image/dog13.jpg (deflated 8%)\n",
            "  adding: image/dog28.jpg (deflated 0%)\n",
            "  adding: image/dog43.jpg (deflated 0%)\n",
            "  adding: image/dog20.jpg (deflated 2%)\n",
            "  adding: image/dog34.jpg (deflated 4%)\n",
            "  adding: image/dog6.jpg (deflated 0%)\n",
            "  adding: image/dog52.jpg (deflated 4%)\n",
            "  adding: image/dog41.jpg (deflated 0%)\n",
            "  adding: image/dog22.jpg (deflated 0%)\n",
            "  adding: image/dog57.jpg (deflated 0%)\n",
            "  adding: image/dog36.jpg (deflated 0%)\n",
            "  adding: image/dog17.jpg (deflated 0%)\n",
            "  adding: image/dog51.jpg (deflated 1%)\n",
            "  adding: image/dog49.jpg (deflated 0%)\n",
            "  adding: image/dog23.jpg (deflated 0%)\n",
            "  adding: image/dog24.jpg (deflated 1%)\n",
            "  adding: image/dog37.jpg (deflated 0%)\n",
            "  adding: image/dog42.jpg (deflated 1%)\n",
            "  adding: image/dog47.jpg (deflated 1%)\n",
            "  adding: image/dog15.jpg (deflated 2%)\n",
            "  adding: image/dog33.jpg (deflated 1%)\n",
            "  adding: image/dog7.jpg (deflated 2%)\n",
            "  adding: image/dog40.jpg (deflated 1%)\n",
            "  adding: image/dog35.jpg (deflated 1%)\n",
            "  adding: image/dog56.jpg (deflated 1%)\n",
            "  adding: image/dog45.jpg (deflated 2%)\n",
            "  adding: image/dog18.jpg (deflated 1%)\n",
            "  adding: image/dog55.jpg (deflated 1%)\n",
            "  adding: image/dog50.jpg (deflated 1%)\n",
            "  adding: image/dog48.jpg (deflated 1%)\n",
            "  adding: image/dog11.jpg (deflated 1%)\n",
            "  adding: image/dog58.jpg (deflated 40%)\n",
            "  adding: image/dog44.jpg (deflated 2%)\n",
            "  adding: image/dog25.jpg (deflated 1%)\n",
            "  adding: image/dog54.jpg (deflated 2%)\n",
            "  adding: image/dog38.jpg (deflated 0%)\n",
            "  adding: image/dog16.jpg (deflated 0%)\n",
            "  adding: image/dog8.jpg (deflated 1%)\n",
            "  adding: image/dog53.jpg (deflated 0%)\n",
            "  adding: image/dog21.jpg (deflated 0%)\n",
            "  adding: image/dog2.jpg (deflated 0%)\n",
            "  adding: image/dog4.jpg (deflated 0%)\n",
            "  adding: image/dog29.jpg (deflated 0%)\n",
            "  adding: image/dog5.jpg (deflated 1%)\n",
            "  adding: image/dog26.jpg (deflated 14%)\n",
            "  adding: image/dog12.jpg (deflated 0%)\n",
            "  adding: image/dog32.jpg (deflated 0%)\n",
            "  adding: image/dog9.jpg (deflated 0%)\n"
          ]
        }
      ]
    }
  ]
}