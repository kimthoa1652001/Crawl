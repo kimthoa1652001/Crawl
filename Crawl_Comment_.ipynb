{
  "nbformat": 4,
  "nbformat_minor": 0,
  "metadata": {
    "colab": {
      "name": "Crawl_Comment .ipynb",
      "provenance": []
    },
    "kernelspec": {
      "name": "python3",
      "display_name": "Python 3"
    },
    "language_info": {
      "name": "python"
    }
  },
  "cells": [
    {
      "cell_type": "markdown",
      "source": [
        "<a aria-label=\"15 giờ\" class=\"oajrlxb2 g5ia77u1 qu0x051f esr5mh6w e9989ue4 r7d6kgcz rq0escxv nhd2j8a9 nc684nl6 p7hjln8o kvgmc6g5 cxmmr5t8 oygrvhab hcukyx3x jb3vyjys rz4wbd8a qt6c0cv9 a8nywdso i1ao9s8h esuyzwwr f1sip0of lzcic4wl gmql0nx0 gpro0wi8 b1v8xokw\" href=\"https://www.facebook.com/ConfessionUIT/posts/7206266892778786?__cft__[0]=AZWtlJasO2zgaR_4dk5B7v_iQuhpvKmSXhlP3idEc3aaaceCc9YJmodZM9yXtwC42wakMNNDSCa0iORMN1C9f8rMgw5_eVFbZrIaIiLR4sE3yqzOfb-SxGOHuv4jW8hh_S_1w4BMwCKUA7DbfDtIQ7qu&amp;__tn__=%2CO%2CP-R\" role=\"link\" tabindex=\"0\"><span><span class=\"j1lvzwm4 stjgntxs ni8dbmo4 q9uorilb gpro0wi8\"><b class=\"t5a262vz nc684nl6 ihxqhq3m l94mrbxd aenfhxwr l9j0dhe7 sdhka5h4\"><b class=\"l94mrbxd aenfhxwr myohyog2 b6zbclly l9j0dhe7 sdhka5h4 ww7X6OS\">=</b><b class=\"myohyog2 l9j0dhe7 "
      ],
      "metadata": {
        "id": "Sc5TBnmJcHc3"
      }
    },
    {
      "cell_type": "markdown",
      "source": [
        " class=\"oajrlxb2 g5ia77u1 qu0x051f esr5mh6w e9989ue4 r7d6kgcz rq0escxv nhd2j8a9 nc684nl6 p7hjln8o kvgmc6g5 cxmmr5t8 oygrvhab hcukyx3x jb3vyjys rz4wbd8a qt6c0cv9 a8nywdso i1ao9s8h esuyzwwr f1sip0of lzcic4wl gmql0nx0 gpro0wi8 b1v8xokw\" \n",
        "\n",
        "class=\"oajrlxb2 g5ia77u1 qu0x051f esr5mh6w e9989ue4 r7d6kgcz rq0escxv nhd2j8a9 nc684nl6 p7hjln8o kvgmc6g5 cxmmr5t8 oygrvhab hcukyx3x jb3vyjys rz4wbd8a qt6c0cv9 a8nywdso i1ao9s8h esuyzwwr f1sip0of lzcic4wl gmql0nx0 gpro0wi8 b1v8xokw\"\n",
        "href=\"https://www.facebook.com/ConfessionUIT/posts/7202391843166291?__cft__[0]=AZVy_O1Szxz84scUEYGFbNhLxWqgtRPwRtrQ6nlJif51Xz-TUlVtnT8QqTYPC_eFjyisZwZ7fqr51-19GM4hpi8ejuCqGhLUOX7Tby5yDABUQjrQ7PYsaIVgldTpsM7DcJscaMhibKnx7XUCWxQGBrLV&amp;__tn__=%2CO%2CP-R\" role=\"link\" tabindex=\"0\"><span><span class=\"j1lvzwm4 stjgntxs ni8dbmo4 q9uorilb gpro0wi8\"><b class=\"t5a262vz nc684nl6 ihxqhq3m l94mrbxd aenfhxwr l9j0dhe7 sdhka5h4\"><b class=\"l94mrbxd aenfhxwr myohyog2 b6zbclly l9j0dhe7 sdhka5h4 ww7X6OS\">=</b><b class=\"l94mrbxd aenfhxwr myohyog2 b6zbclly l9j0dhe7 sdhka5h4 ww7X6OS\">=</b><b class=\"l94mrbxd aenfhxwr myohyog2 b6zbclly l9j0dhe7 sdhka5h4 ww7X6OS\">=</b><b class=\"l94mrbxd aenfhxwr myohyog2 b6zbclly l9j0dhe7 sdhka5h4 ww7X6OS\">=</b><b class=\"l94mrbxd aenfhxwr myohyog2 b6zbclly l9j0dhe7 sdhka5h4 ww7X6OS\">=</b><b class=\"l94mrbxd aenfhxwr myohyog2 b6zbclly l9j0dhe7 sdhka5h4 ww7X6OS\">=</b><b class=\"l94mrbxd aenfhxwr myohyog2 b6zbclly l9j0dhe7 sdhka5h4 ww7X6OS\">=</b><b class=\"l94mrbxd aenfhxwr myohyog2 b6zbclly l9j0dhe7 sdhka5h4 ww7X6OS\">=</b><b class=\"l94mrbxd aenfhxwr myohyog2 b6zbclly l9j0dhe7 sdhka5h4 ww7X6OS\">=</b><b class=\"l94mrbxd aenfhxwr myohyog2 b6zbclly l9j0dhe7 sdhka5h4 ww7X6OS\">=</b><b class=\"l94mrbxd aenfhxwr myohyog2 b6zbclly l9j0dhe7 sdhka5h4 ww7X6OS\">=</b><b class=\"l94mrbxd aenfhxwr myohyog2 b6zbclly l9j0dhe7 sdhka5h4 ww7X6OS\">=</b><b class=\"l94mrbxd aenfhxwr myohyog2 b6zbclly l9j0dhe7 sdhka5h4 ww7X6OS\">=</b><b class=\"l94mrbxd aenfhxwr myohyog2 b6zbclly l9j0dhe7 sdhka5h4 ww7X6OS\">=</b><b class=\"l94mrbxd aenfhxwr myohyog2 b6zbclly l9j0dhe7 sdhka5h4 ww7X6OS\">=</b><b class=\"l94mrbxd aenfhxwr myohyog2 b6zbclly l9j0dhe7 sdhka5h4 ww7X6OS\">=</b><b class=\"l94mrbxd aenfhxwr myohyog2 b6zbclly l9j0dhe7 sdhka5h4 ww7X6OS\">=</b><b class=\"l94mrbxd aenfhxwr myohyog2 b6zbclly l9j0dhe7 sdhka5h4 ww7X6OS\">=</b><b class=\"l94mrbxd aenfhxwr myohyog2 b6zbclly l9j0dhe7 sdhka5h4 ww7X6OS\">=</b><b class=\"l94mrbxd aenfhxwr myohyog2 b6zbclly l9j0dhe7 sdhka5h4 ww7X6OS\">=</b><b class=\"l94mrbxd aenfhxwr myohyog2 b6zbclly l9j0dhe7 sdhka5h4 ww7X6OS\">=</b><b class=\"l94mrbxd aenfhxwr myohyog2 b6zbclly l9j0dhe7 sdhka5h4 ww7X6OS\">=</b><b class=\"l94mrbxd aenfhxwr myohyog2 b6zbclly l9j0dhe7 sdhka5h4 ww7X6OS\">=</b><b class=\"l94mrbxd aenfhxwr myohyog2 b6zbclly l9j0dhe7 sdhka5h4 ww7X6OS\">=</b><b class=\"l94mrbxd aenfhxwr myohyog2 b6zbclly l9j0dhe7 sdhka5h4 ww7X6OS\">=</b><b class=\"l94mrbxd aenfhxwr myohyog2 b6zbclly l9j0dhe7 sdhka5h4 ww7X6OS\">=</b><b class=\"l94mrbxd aenfhxwr myohyog2 b6zbclly l9j0dhe7 sdhka5h4 ww7X6OS\">=</b><b class=\"nc684nl6 l94mrbxd l9j0dhe7 sdhka5h4\">6 tháng 4 lúc 22:42</b><b class=\"l94mrbxd aenfhxwr myohyog2 b6zbclly l9j0dhe7 sdhka5h4 ww7X6OS\">=</b><b class=\"l94mrbxd aenfhxwr myohyog2 b6zbclly l9j0dhe7 sdhka5h4 ww7X6OS\">=</b><b class=\"l94mrbxd aenfhxwr myohyog2 b6zbclly l9j0dhe7 sdhka5h4 ww7X6OS\">=</b><b class=\"l94mrbxd aenfhxwr myohyog2 b6zbclly l9j0dhe7 sdhka5h4 ww7X6OS\">=</b><b class=\"l94mrbxd aenfhxwr myohyog2 b6zbclly l9j0dhe7 sdhka5h4 ww7X6OS\">=</b><b class=\"l94mrbxd aenfhxwr myohyog2 b6zbclly l9j0dhe7 sdhka5h4 ww7X6OS\">=</b><b class=\"l94mrbxd aenfhxwr myohyog2 b6zbclly l9j0dhe7 sdhka5h4 ww7X6OS\">=</b><b class=\"l94mrbxd aenfhxwr myohyog2 b6zbclly l9j0dhe7 sdhka5h4 ww7X6OS\">=</b><b class=\"l94mrbxd aenfhxwr myohyog2 b6zbclly l9j0dhe7 sdhka5h4 ww7X6OS\">=</b><b class=\"l94mrbxd aenfhxwr myohyog2 b6zbclly l9j0dhe7 sdhka5h4 ww7X6OS\">=</b><b class=\"l94mrbxd aenfhxwr myohyog2 b6zbclly l9j0dhe7 sdhka5h4 ww7X6OS\">=</b><b class=\"l94mrbxd aenfhxwr myohyog2 b6zbclly l9j0dhe7 sdhka5h4 ww7X6OS\">=</b><b class=\"l94mrbxd aenfhxwr myohyog2 b6zbclly l9j0dhe7 sdhka5h4 ww7X6OS\">=</b><b class=\"l94mrbxd aenfhxwr myohyog2 b6zbclly l9j0dhe7 sdhka5h4 ww7X6OS\">=</b><b class=\"l94mrbxd aenfhxwr myohyog2 b6zbclly l9j0dhe7 sdhka5h4 ww7X6OS\">=</b></b></span></span></a>"
      ],
      "metadata": {
        "id": "4HdaVctRW_64"
      }
    },
    {
      "cell_type": "code",
      "source": [
        "!apt update\n",
        "!apt install chromium-chromedriver\n",
        "!pip install selenium"
      ],
      "metadata": {
        "colab": {
          "base_uri": "https://localhost:8080/"
        },
        "id": "i_00EJbrMu3q",
        "outputId": "ef7911c2-e239-4dd5-ed54-3767d0e0ad7a"
      },
      "execution_count": null,
      "outputs": [
        {
          "output_type": "stream",
          "name": "stdout",
          "text": [
            "\u001b[33m\r0% [Working]\u001b[0m\r            \rGet:1 http://ppa.launchpad.net/c2d4u.team/c2d4u4.0+/ubuntu bionic InRelease [15.9 kB]\n",
            "\u001b[33m\r0% [Connecting to archive.ubuntu.com (185.125.190.36)] [Waiting for headers] [C\u001b[0m\r                                                                               \rGet:2 http://security.ubuntu.com/ubuntu bionic-security InRelease [88.7 kB]\n",
            "\u001b[33m\r0% [Waiting for headers] [2 InRelease 0 B/88.7 kB 0%] [Connecting to cloud.r-pr\u001b[0m\u001b[33m\r0% [Waiting for headers] [2 InRelease 43.1 kB/88.7 kB 49%] [Connected to cloud.\u001b[0m\r                                                                               \rHit:3 http://archive.ubuntu.com/ubuntu bionic InRelease\n",
            "\u001b[33m\r0% [Waiting for headers] [2 InRelease 48.9 kB/88.7 kB 55%] [Connected to cloud.\u001b[0m\r                                                                               \rGet:4 http://archive.ubuntu.com/ubuntu bionic-updates InRelease [88.7 kB]\n",
            "\u001b[33m\r0% [1 InRelease gpgv 15.9 kB] [4 InRelease 14.2 kB/88.7 kB 16%] [2 InRelease 48\u001b[0m\r                                                                               \rHit:5 http://ppa.launchpad.net/cran/libgit2/ubuntu bionic InRelease\n",
            "\u001b[33m\r0% [1 InRelease gpgv 15.9 kB] [4 InRelease 15.6 kB/88.7 kB 18%] [2 InRelease 77\u001b[0m\u001b[33m\r0% [1 InRelease gpgv 15.9 kB] [4 InRelease 18.5 kB/88.7 kB 21%] [Connected to c\u001b[0m\r                                                                               \rGet:6 http://ppa.launchpad.net/deadsnakes/ppa/ubuntu bionic InRelease [15.9 kB]\n",
            "\u001b[33m\r0% [1 InRelease gpgv 15.9 kB] [4 InRelease 88.0 kB/88.7 kB 99%] [Waiting for he\u001b[0m\u001b[33m\r0% [1 InRelease gpgv 15.9 kB] [Waiting for headers] [6 InRelease 2,572 B/15.9 k\u001b[0m\r                                                                               \rGet:7 https://cloud.r-project.org/bin/linux/ubuntu bionic-cran40/ InRelease [3,626 B]\n",
            "\u001b[33m\r0% [1 InRelease gpgv 15.9 kB] [Waiting for headers] [7 InRelease 3,626 B/3,626 \u001b[0m\u001b[33m\r0% [1 InRelease gpgv 15.9 kB] [Waiting for headers] [6 InRelease 14.2 kB/15.9 k\u001b[0m\u001b[33m\r0% [1 InRelease gpgv 15.9 kB] [Waiting for headers] [Connecting to ppa.launchpa\u001b[0m\r                                                                               \rGet:8 http://archive.ubuntu.com/ubuntu bionic-backports InRelease [74.6 kB]\n",
            "Get:9 http://ppa.launchpad.net/graphics-drivers/ppa/ubuntu bionic InRelease [21.3 kB]\n",
            "Ign:10 https://developer.download.nvidia.com/compute/cuda/repos/ubuntu1804/x86_64  InRelease\n",
            "Get:11 http://ppa.launchpad.net/c2d4u.team/c2d4u4.0+/ubuntu bionic/main Sources [1,831 kB]\n",
            "Ign:12 https://developer.download.nvidia.com/compute/machine-learning/repos/ubuntu1804/x86_64  InRelease\n",
            "Get:13 https://developer.download.nvidia.com/compute/cuda/repos/ubuntu1804/x86_64  Release [696 B]\n",
            "Hit:14 https://developer.download.nvidia.com/compute/machine-learning/repos/ubuntu1804/x86_64  Release\n",
            "Get:15 https://developer.download.nvidia.com/compute/cuda/repos/ubuntu1804/x86_64  Release.gpg [836 B]\n",
            "Get:16 http://ppa.launchpad.net/c2d4u.team/c2d4u4.0+/ubuntu bionic/main amd64 Packages [938 kB]\n",
            "Get:17 http://security.ubuntu.com/ubuntu bionic-security/main amd64 Packages [2,693 kB]\n",
            "Get:18 http://security.ubuntu.com/ubuntu bionic-security/universe amd64 Packages [1,489 kB]\n",
            "Get:19 http://security.ubuntu.com/ubuntu bionic-security/restricted amd64 Packages [884 kB]\n",
            "Get:20 http://archive.ubuntu.com/ubuntu bionic-updates/main amd64 Packages [3,133 kB]\n",
            "Get:21 http://archive.ubuntu.com/ubuntu bionic-updates/universe amd64 Packages [2,267 kB]\n",
            "Get:22 http://archive.ubuntu.com/ubuntu bionic-updates/restricted amd64 Packages [918 kB]\n",
            "Get:23 http://archive.ubuntu.com/ubuntu bionic-updates/multiverse amd64 Packages [29.8 kB]\n",
            "Get:24 http://ppa.launchpad.net/deadsnakes/ppa/ubuntu bionic/main amd64 Packages [45.2 kB]\n",
            "Get:25 https://cloud.r-project.org/bin/linux/ubuntu bionic-cran40/ Packages [82.3 kB]\n",
            "Get:26 http://archive.ubuntu.com/ubuntu bionic-backports/main amd64 Packages [12.2 kB]\n",
            "Get:27 http://archive.ubuntu.com/ubuntu bionic-backports/universe amd64 Packages [12.9 kB]\n",
            "Get:28 http://ppa.launchpad.net/graphics-drivers/ppa/ubuntu bionic/main amd64 Packages [44.3 kB]\n",
            "Get:30 https://developer.download.nvidia.com/compute/cuda/repos/ubuntu1804/x86_64  Packages [951 kB]\n",
            "Fetched 15.6 MB in 2s (7,143 kB/s)\n",
            "Reading package lists... Done\n",
            "Building dependency tree       \n",
            "Reading state information... Done\n",
            "96 packages can be upgraded. Run 'apt list --upgradable' to see them.\n",
            "Reading package lists... Done\n",
            "Building dependency tree       \n",
            "Reading state information... Done\n",
            "The following additional packages will be installed:\n",
            "  chromium-browser chromium-browser-l10n chromium-codecs-ffmpeg-extra\n",
            "Suggested packages:\n",
            "  webaccounts-chromium-extension unity-chromium-extension\n",
            "The following NEW packages will be installed:\n",
            "  chromium-browser chromium-browser-l10n chromium-chromedriver\n",
            "  chromium-codecs-ffmpeg-extra\n",
            "0 upgraded, 4 newly installed, 0 to remove and 96 not upgraded.\n",
            "Need to get 88.3 MB of archives.\n",
            "After this operation, 294 MB of additional disk space will be used.\n",
            "Get:1 http://archive.ubuntu.com/ubuntu bionic-updates/universe amd64 chromium-codecs-ffmpeg-extra amd64 99.0.4844.84-0ubuntu0.18.04.1 [1,142 kB]\n",
            "Get:2 http://archive.ubuntu.com/ubuntu bionic-updates/universe amd64 chromium-browser amd64 99.0.4844.84-0ubuntu0.18.04.1 [77.7 MB]\n",
            "Get:3 http://archive.ubuntu.com/ubuntu bionic-updates/universe amd64 chromium-browser-l10n all 99.0.4844.84-0ubuntu0.18.04.1 [4,397 kB]\n",
            "Get:4 http://archive.ubuntu.com/ubuntu bionic-updates/universe amd64 chromium-chromedriver amd64 99.0.4844.84-0ubuntu0.18.04.1 [5,092 kB]\n",
            "Fetched 88.3 MB in 1s (64.1 MB/s)\n",
            "Selecting previously unselected package chromium-codecs-ffmpeg-extra.\n",
            "(Reading database ... 156210 files and directories currently installed.)\n",
            "Preparing to unpack .../chromium-codecs-ffmpeg-extra_99.0.4844.84-0ubuntu0.18.04.1_amd64.deb ...\n",
            "Unpacking chromium-codecs-ffmpeg-extra (99.0.4844.84-0ubuntu0.18.04.1) ...\n",
            "Selecting previously unselected package chromium-browser.\n",
            "Preparing to unpack .../chromium-browser_99.0.4844.84-0ubuntu0.18.04.1_amd64.deb ...\n",
            "Unpacking chromium-browser (99.0.4844.84-0ubuntu0.18.04.1) ...\n",
            "Selecting previously unselected package chromium-browser-l10n.\n",
            "Preparing to unpack .../chromium-browser-l10n_99.0.4844.84-0ubuntu0.18.04.1_all.deb ...\n",
            "Unpacking chromium-browser-l10n (99.0.4844.84-0ubuntu0.18.04.1) ...\n",
            "Selecting previously unselected package chromium-chromedriver.\n",
            "Preparing to unpack .../chromium-chromedriver_99.0.4844.84-0ubuntu0.18.04.1_amd64.deb ...\n",
            "Unpacking chromium-chromedriver (99.0.4844.84-0ubuntu0.18.04.1) ...\n",
            "Setting up chromium-codecs-ffmpeg-extra (99.0.4844.84-0ubuntu0.18.04.1) ...\n",
            "Setting up chromium-browser (99.0.4844.84-0ubuntu0.18.04.1) ...\n",
            "update-alternatives: using /usr/bin/chromium-browser to provide /usr/bin/x-www-browser (x-www-browser) in auto mode\n",
            "update-alternatives: using /usr/bin/chromium-browser to provide /usr/bin/gnome-www-browser (gnome-www-browser) in auto mode\n",
            "Setting up chromium-chromedriver (99.0.4844.84-0ubuntu0.18.04.1) ...\n",
            "Setting up chromium-browser-l10n (99.0.4844.84-0ubuntu0.18.04.1) ...\n",
            "Processing triggers for man-db (2.8.3-2ubuntu0.1) ...\n",
            "Processing triggers for hicolor-icon-theme (0.17-2) ...\n",
            "Processing triggers for mime-support (3.60ubuntu1) ...\n",
            "Processing triggers for libc-bin (2.27-3ubuntu1.3) ...\n",
            "/sbin/ldconfig.real: /usr/local/lib/python3.7/dist-packages/ideep4py/lib/libmkldnn.so.0 is not a symbolic link\n",
            "\n",
            "Collecting selenium\n",
            "  Downloading selenium-4.1.3-py3-none-any.whl (968 kB)\n",
            "\u001b[K     |████████████████████████████████| 968 kB 13.0 MB/s \n",
            "\u001b[?25hCollecting trio~=0.17\n",
            "  Downloading trio-0.20.0-py3-none-any.whl (359 kB)\n",
            "\u001b[K     |████████████████████████████████| 359 kB 56.1 MB/s \n",
            "\u001b[?25hCollecting urllib3[secure,socks]~=1.26\n",
            "  Downloading urllib3-1.26.9-py2.py3-none-any.whl (138 kB)\n",
            "\u001b[K     |████████████████████████████████| 138 kB 72.9 MB/s \n",
            "\u001b[?25hCollecting trio-websocket~=0.9\n",
            "  Downloading trio_websocket-0.9.2-py3-none-any.whl (16 kB)\n",
            "Requirement already satisfied: idna in /usr/local/lib/python3.7/dist-packages (from trio~=0.17->selenium) (2.10)\n",
            "Collecting outcome\n",
            "  Downloading outcome-1.1.0-py2.py3-none-any.whl (9.7 kB)\n",
            "Requirement already satisfied: sortedcontainers in /usr/local/lib/python3.7/dist-packages (from trio~=0.17->selenium) (2.4.0)\n",
            "Collecting sniffio\n",
            "  Downloading sniffio-1.2.0-py3-none-any.whl (10 kB)\n",
            "Requirement already satisfied: attrs>=19.2.0 in /usr/local/lib/python3.7/dist-packages (from trio~=0.17->selenium) (21.4.0)\n",
            "Collecting async-generator>=1.9\n",
            "  Downloading async_generator-1.10-py3-none-any.whl (18 kB)\n",
            "Collecting wsproto>=0.14\n",
            "  Downloading wsproto-1.1.0-py3-none-any.whl (24 kB)\n",
            "Requirement already satisfied: PySocks!=1.5.7,<2.0,>=1.5.6 in /usr/local/lib/python3.7/dist-packages (from urllib3[secure,socks]~=1.26->selenium) (1.7.1)\n",
            "Requirement already satisfied: certifi in /usr/local/lib/python3.7/dist-packages (from urllib3[secure,socks]~=1.26->selenium) (2021.10.8)\n",
            "Collecting cryptography>=1.3.4\n",
            "  Downloading cryptography-36.0.2-cp36-abi3-manylinux_2_24_x86_64.whl (3.6 MB)\n",
            "\u001b[K     |████████████████████████████████| 3.6 MB 44.6 MB/s \n",
            "\u001b[?25hCollecting pyOpenSSL>=0.14\n",
            "  Downloading pyOpenSSL-22.0.0-py2.py3-none-any.whl (55 kB)\n",
            "\u001b[K     |████████████████████████████████| 55 kB 3.0 MB/s \n",
            "\u001b[?25hRequirement already satisfied: cffi>=1.12 in /usr/local/lib/python3.7/dist-packages (from cryptography>=1.3.4->urllib3[secure,socks]~=1.26->selenium) (1.15.0)\n",
            "Requirement already satisfied: pycparser in /usr/local/lib/python3.7/dist-packages (from cffi>=1.12->cryptography>=1.3.4->urllib3[secure,socks]~=1.26->selenium) (2.21)\n",
            "Collecting h11<1,>=0.9.0\n",
            "  Downloading h11-0.13.0-py3-none-any.whl (58 kB)\n",
            "\u001b[K     |████████████████████████████████| 58 kB 4.6 MB/s \n",
            "\u001b[?25hRequirement already satisfied: typing-extensions in /usr/local/lib/python3.7/dist-packages (from h11<1,>=0.9.0->wsproto>=0.14->trio-websocket~=0.9->selenium) (3.10.0.2)\n",
            "Installing collected packages: sniffio, outcome, h11, cryptography, async-generator, wsproto, urllib3, trio, pyOpenSSL, trio-websocket, selenium\n",
            "  Attempting uninstall: urllib3\n",
            "    Found existing installation: urllib3 1.24.3\n",
            "    Uninstalling urllib3-1.24.3:\n",
            "      Successfully uninstalled urllib3-1.24.3\n",
            "\u001b[31mERROR: pip's dependency resolver does not currently take into account all the packages that are installed. This behaviour is the source of the following dependency conflicts.\n",
            "requests 2.23.0 requires urllib3!=1.25.0,!=1.25.1,<1.26,>=1.21.1, but you have urllib3 1.26.9 which is incompatible.\n",
            "datascience 0.10.6 requires folium==0.2.1, but you have folium 0.8.3 which is incompatible.\u001b[0m\n",
            "Successfully installed async-generator-1.10 cryptography-36.0.2 h11-0.13.0 outcome-1.1.0 pyOpenSSL-22.0.0 selenium-4.1.3 sniffio-1.2.0 trio-0.20.0 trio-websocket-0.9.2 urllib3-1.26.9 wsproto-1.1.0\n"
          ]
        }
      ]
    },
    {
      "cell_type": "code",
      "execution_count": null,
      "metadata": {
        "id": "hQmBcBFqQK4n"
      },
      "outputs": [],
      "source": [
        "from selenium import webdriver\n",
        "from selenium.webdriver.common.keys import Keys\n",
        "from bs4 import BeautifulSoup\n",
        "from urllib.request import Request, urlopen\n",
        "import csv\n",
        "import pandas as pd\n",
        "import re"
      ]
    },
    {
      "cell_type": "code",
      "source": [
        "options = webdriver.ChromeOptions()\n",
        "options.add_argument('--headless')\n",
        "options.add_argument('--no-sandbox')\n",
        "options.add_argument('--disable-dev-shm-usage')"
      ],
      "metadata": {
        "id": "sEmmAUJFQotG"
      },
      "execution_count": null,
      "outputs": []
    },
    {
      "cell_type": "markdown",
      "source": [
        "#  Dang nhap "
      ],
      "metadata": {
        "id": "Vgcs24OVUw8C"
      }
    },
    {
      "cell_type": "code",
      "source": [
        "driver = webdriver.Chrome(options=options)\n",
        "url = \"https://www.facebook.com/\"\n",
        "driver.get(url)\n",
        "soup = BeautifulSoup(driver.page_source)"
      ],
      "metadata": {
        "id": "gJ4uYK8fRxtd"
      },
      "execution_count": null,
      "outputs": []
    },
    {
      "cell_type": "code",
      "source": [
        "email_file = driver.find_element_by_id('email')\n",
        "email_file.send_keys('0935733160')\n",
        "password_file = driver.find_element_by_name('pass')\n",
        "password_file.send_keys('kimthoa165')"
      ],
      "metadata": {
        "colab": {
          "base_uri": "https://localhost:8080/"
        },
        "id": "COjEkgr2WOG0",
        "outputId": "97e0c80b-c96b-405e-a0d0-cffe3dd5ff07"
      },
      "execution_count": null,
      "outputs": [
        {
          "output_type": "stream",
          "name": "stderr",
          "text": [
            "/usr/local/lib/python3.7/dist-packages/ipykernel_launcher.py:1: DeprecationWarning: find_element_by_* commands are deprecated. Please use find_element() instead\n",
            "  \"\"\"Entry point for launching an IPython kernel.\n",
            "/usr/local/lib/python3.7/dist-packages/ipykernel_launcher.py:3: DeprecationWarning: find_element_by_name is deprecated. Please use find_element(by=By.NAME, value=name) instead\n",
            "  This is separate from the ipykernel package so we can avoid doing imports until\n"
          ]
        }
      ]
    },
    {
      "cell_type": "code",
      "source": [
        "login_ = driver."
      ],
      "metadata": {
        "id": "fAor0aJRXZfp"
      },
      "execution_count": null,
      "outputs": []
    },
    {
      "cell_type": "code",
      "source": [
        "category = soup.find_all('div', {\"class\":\"kvgmc6g5 cxmmr5t8 oygrvhab hcukyx3x c1et5uql ii04i59q\"})"
      ],
      "metadata": {
        "id": "Pn1lRuyP7IdW"
      },
      "execution_count": null,
      "outputs": []
    },
    {
      "cell_type": "code",
      "source": [
        "category"
      ],
      "metadata": {
        "colab": {
          "base_uri": "https://localhost:8080/"
        },
        "id": "PX_Z0OA1ASd_",
        "outputId": "b9bceacd-14f1-499d-cb1e-a3b2726ca8dd"
      },
      "execution_count": null,
      "outputs": [
        {
          "output_type": "execute_result",
          "data": {
            "text/plain": [
              "[]"
            ]
          },
          "metadata": {},
          "execution_count": 12
        }
      ]
    },
    {
      "cell_type": "code",
      "source": [
        "category[1].get_text(), category[1]"
      ],
      "metadata": {
        "colab": {
          "base_uri": "https://localhost:8080/"
        },
        "id": "6XHClpCJAc74",
        "outputId": "d085abfd-8144-4923-df68-0f130e257478"
      },
      "execution_count": null,
      "outputs": [
        {
          "output_type": "execute_result",
          "data": {
            "text/plain": [
              "('Single-image crowd counting: a comparative survey on deep learning-based approaches',\n",
              " <a class=\"title\" href=\"/article/10.1007/s13735-019-00181-y\">Single-image crowd counting: a comparative survey on deep learning-based approaches</a>)"
            ]
          },
          "metadata": {},
          "execution_count": 9
        }
      ]
    },
    {
      "cell_type": "code",
      "source": [
        "for link in category:\n",
        "  print(link.get(\"href\"))"
      ],
      "metadata": {
        "colab": {
          "base_uri": "https://localhost:8080/"
        },
        "id": "k9H5YX_3CWi2",
        "outputId": "e6e25f46-0498-4f0b-dabe-24ffa021d402"
      },
      "execution_count": null,
      "outputs": [
        {
          "output_type": "stream",
          "name": "stdout",
          "text": [
            "/chapter/10.1007/978-3-030-98355-0_54\n",
            "/article/10.1007/s13735-019-00181-y\n",
            "/article/10.1007/s13735-019-00172-z\n",
            "/chapter/10.1007/978-3-319-73600-6_49\n",
            "/chapter/10.1007/978-3-319-76081-0_31\n",
            "/article/10.1007/s40595-016-0093-x\n",
            "/chapter/10.1007/978-3-319-70090-8_53\n",
            "/chapter/10.1007/978-3-319-51814-5_44\n",
            "/article/10.1007/s41109-016-0003-2\n",
            "/chapter/10.1007/978-3-319-29451-3_18\n",
            "/chapter/10.1007/978-3-319-46466-4_46\n",
            "/chapter/10.1007/978-3-319-14442-9_28\n",
            "/chapter/10.1007/978-3-319-23234-8_1\n",
            "/chapter/10.1007/978-3-319-04117-9_50\n",
            "/article/10.1007/s11265-013-0825-4\n",
            "/chapter/10.1007/978-3-642-35728-2_65\n",
            "/chapter/10.1007/978-3-642-34778-8_4\n",
            "/chapter/10.1007/978-3-642-24085-0_12\n"
          ]
        }
      ]
    },
    {
      "cell_type": "code",
      "source": [
        "u = \"https://link.springer.com\"\n",
        "list_url_category = []\n",
        "title = []\n",
        "for link in category:\n",
        "  title.append(link.get_text())\n",
        "  print(u+link.get(\"href\"))\n",
        "#  list_url_category.append(u+link.get(\"href\"))\n",
        "#for i in list_url_category:\n",
        "#  print(i)"
      ],
      "metadata": {
        "colab": {
          "base_uri": "https://localhost:8080/"
        },
        "id": "bBwBfwWlSaHu",
        "outputId": "48f2f4a4-9ee9-4bcf-e5dc-1e99d40ce928"
      },
      "execution_count": null,
      "outputs": [
        {
          "output_type": "stream",
          "name": "stdout",
          "text": [
            "https://link.springer.com/chapter/10.1007/978-3-030-98355-0_54\n",
            "https://link.springer.com/article/10.1007/s13735-019-00181-y\n",
            "https://link.springer.com/article/10.1007/s13735-019-00172-z\n",
            "https://link.springer.com/chapter/10.1007/978-3-319-73600-6_49\n",
            "https://link.springer.com/chapter/10.1007/978-3-319-76081-0_31\n",
            "https://link.springer.com/article/10.1007/s40595-016-0093-x\n",
            "https://link.springer.com/chapter/10.1007/978-3-319-70090-8_53\n",
            "https://link.springer.com/chapter/10.1007/978-3-319-51814-5_44\n",
            "https://link.springer.com/article/10.1007/s41109-016-0003-2\n",
            "https://link.springer.com/chapter/10.1007/978-3-319-29451-3_18\n",
            "https://link.springer.com/chapter/10.1007/978-3-319-46466-4_46\n",
            "https://link.springer.com/chapter/10.1007/978-3-319-14442-9_28\n",
            "https://link.springer.com/chapter/10.1007/978-3-319-23234-8_1\n",
            "https://link.springer.com/chapter/10.1007/978-3-319-04117-9_50\n",
            "https://link.springer.com/article/10.1007/s11265-013-0825-4\n",
            "https://link.springer.com/chapter/10.1007/978-3-642-35728-2_65\n",
            "https://link.springer.com/chapter/10.1007/978-3-642-34778-8_4\n",
            "https://link.springer.com/chapter/10.1007/978-3-642-24085-0_12\n"
          ]
        }
      ]
    },
    {
      "cell_type": "code",
      "source": [
        "df = pd.DataFrame()\n",
        "href = []\n",
        "time = []\n",
        "authors = []\n",
        "abstract = []\n",
        "for i in list_url_category:\n",
        "   driver.get(i)\n",
        "   soup = BeautifulSoup(driver.page_source)\n",
        "   href.append(i)\n",
        "  \n",
        "   x = soup.find('time')\n",
        "   try:\n",
        "    time.append(x.getText())\n",
        "   except:\n",
        "     time.append(\"[]\")\n",
        "  \n",
        "   y = soup.find_all('p',{\"class\":\"c-article-author-affiliation__authors-list\"})\n",
        "   authors.append(y)\n",
        "\n",
        "   abstract.append(soup.find('div',{\"class\":\"c-article-section__content\"},{\"id\":\"Abs1-content\"}).get_text()) \n",
        "  "
      ],
      "metadata": {
        "id": "Gy-06DiCYAeC"
      },
      "execution_count": null,
      "outputs": []
    },
    {
      "cell_type": "code",
      "source": [
        "df['headline'] = title\n",
        "df['article_link'] = href\n",
        "df['date'] = time\n",
        "df['\bauthors'] = authors\n",
        "df['abstract'] = abstract\n",
        "df"
      ],
      "metadata": {
        "colab": {
          "base_uri": "https://localhost:8080/",
          "height": 970
        },
        "id": "8m5OB0SsfCxo",
        "outputId": "8f370caf-314e-4dbd-f076-8337623bbde9"
      },
      "execution_count": null,
      "outputs": [
        {
          "output_type": "execute_result",
          "data": {
            "text/plain": [
              "                                             headline  \\\n",
              "0   UIT at VBS 2022: An Unified and Interactive Vi...   \n",
              "1   Single-image crowd counting: a comparative sur...   \n",
              "2   Video instance search via spatial fusion of vi...   \n",
              "3   Video Search Based on Semantic Extraction and ...   \n",
              "4   How to Choose Deep Face Models for Surveillanc...   \n",
              "5     Person re-identification with mutual re-ranking   \n",
              "6   Evaluation of Deep Models for Real-Time Small ...   \n",
              "7   Semantic Extraction and Object Proposal for Vi...   \n",
              "8   When face-tracking meets social networks: a st...   \n",
              "9   Cross-View Action Recognition by Projection-Ba...   \n",
              "10  Efficient Large Scale Image Classification via...   \n",
              "11  NII-UIT Browser: A Multimodal Video Search System   \n",
              "12  Learning Balanced Trees for Large Scale Image ...   \n",
              "13  NII-UIT: A Tool for Known Item Search by Seque...   \n",
              "14  Multimedia Event Detection Using Segment-Based...   \n",
              "15  NII-UIT-VBS: A Video Browsing Tool for Known I...   \n",
              "16  Multimedia Event Detection Using Segment-Based...   \n",
              "17  Improving Image Categorization by Using Multip...   \n",
              "\n",
              "                                         article_link               date  \\\n",
              "0   https://link.springer.com/chapter/10.1007/978-...      15 March 2022   \n",
              "1   https://link.springer.com/article/10.1007/s137...    30 October 2019   \n",
              "2   https://link.springer.com/article/10.1007/s137...      29 April 2019   \n",
              "3   https://link.springer.com/chapter/10.1007/978-...    13 January 2018   \n",
              "4   https://link.springer.com/chapter/10.1007/978-...   24 February 2018   \n",
              "5   https://link.springer.com/article/10.1007/s405...    19 January 2017   \n",
              "6   https://link.springer.com/chapter/10.1007/978-...    28 October 2017   \n",
              "7   https://link.springer.com/chapter/10.1007/978-...   31 December 2016   \n",
              "8   https://link.springer.com/article/10.1007/s411...       01 June 2016   \n",
              "9   https://link.springer.com/chapter/10.1007/978-...   04 February 2016   \n",
              "10  https://link.springer.com/chapter/10.1007/978-...  17 September 2016   \n",
              "11  https://link.springer.com/chapter/10.1007/978-...                 []   \n",
              "12  https://link.springer.com/chapter/10.1007/978-...     21 August 2015   \n",
              "13  https://link.springer.com/chapter/10.1007/978-...                 []   \n",
              "14  https://link.springer.com/article/10.1007/s112...       30 July 2013   \n",
              "15  https://link.springer.com/chapter/10.1007/978-...                 []   \n",
              "16  https://link.springer.com/chapter/10.1007/978-...                 []   \n",
              "17  https://link.springer.com/chapter/10.1007/978-...                 []   \n",
              "\n",
              "                                             \bauthors  \\\n",
              "0   [[Khanh Ho, Vu Xuan Dinh, Hong-Quang Nguyen, K...   \n",
              "1                       [[Vy Nguyen & Thanh Duc Ngo]]   \n",
              "2   [[Vinh-Tiep Nguyen, Duy Dinh Le, Thanh Duc Ngo...   \n",
              "3   [[Thanh-Dat Truong, Vinh-Tiep Nguyen, Trang-Vi...   \n",
              "4   [[Vy Nguyen, Tien Do, Vinh-Tiep Nguyen, Thanh ...   \n",
              "5   [[Ngoc-Bao Nguyen, Vu-Hoang Nguyen, Thanh Duc ...   \n",
              "6   [[Phuoc Pham, Duy Nguyen, Tien Do, Thanh Duc N...   \n",
              "7   [[Vinh-Tiep Nguyen & Minh-Triet Tran], [Thanh ...   \n",
              "8   [[Benjamin Renoust, Duy-Dinh Le & Shin’Ichi Sa...   \n",
              "9   [[Chien-Quang Le], [Thanh Duc Ngo & Duc Anh Du...   \n",
              "10  [[Duy-Dinh Le, Tien-Dung Mai, Thanh Duc Ngo & ...   \n",
              "11  [[Thanh Duc Ngo, Vu Hoang Nguyen & Duc Anh Duo...   \n",
              "12  [[Tien-Dung Mai, Thanh Duc Ngo, Duy-Dinh Le, D...   \n",
              "13  [[Thanh Duc Ngo, Vu Hoang Nguyen, Vu Lam & Duc...   \n",
              "14  [[Sang Phan & Thanh Duc Ngo], [Vu Lam & Son Tr...   \n",
              "15  [[Duy-Dinh Le & Shin’ichi Satoh], [Thanh Duc N...   \n",
              "16  [[Sang Phan & Thanh Duc Ngo], [Vu Lam & Son Tr...   \n",
              "17  [[Thanh Duc Ngo, Duy-Dinh Le & Shin’ichi Satoh...   \n",
              "\n",
              "                                             abstract  \n",
              "0   This paper introduces our multimedia retrieval...  \n",
              "1   Crowd counting is an attracting computer visio...  \n",
              "2   Most popular systems for object instance searc...  \n",
              "3   In this paper, we propose a semantic concept-b...  \n",
              "4   Face recognition suits well in situations that...  \n",
              "5   Person re-identification is the problem of ide...  \n",
              "6   Real-time object detection is crucial for many...  \n",
              "7   In this paper, we propose two approaches to de...  \n",
              "8   In the age of data processing, news videos are...  \n",
              "9   Challenging issue in cross-view action recogni...  \n",
              "10  There has been growing interest in reducing th...  \n",
              "11  We introduce an interactive system for searchi...  \n",
              "12  The label tree is one of the popular approache...  \n",
              "13  This paper presents an interactive tool for se...  \n",
              "14  Multimedia event detection has become a popula...  \n",
              "15  This paper introduces a video browsing tool fo...  \n",
              "16  Detecting event in multimedia video has become...  \n",
              "17  Image categorization is a challenging problem ...  "
            ],
            "text/html": [
              "\n",
              "  <div id=\"df-670e7435-579c-4f08-b0b9-9bd3c1daed84\">\n",
              "    <div class=\"colab-df-container\">\n",
              "      <div>\n",
              "<style scoped>\n",
              "    .dataframe tbody tr th:only-of-type {\n",
              "        vertical-align: middle;\n",
              "    }\n",
              "\n",
              "    .dataframe tbody tr th {\n",
              "        vertical-align: top;\n",
              "    }\n",
              "\n",
              "    .dataframe thead th {\n",
              "        text-align: right;\n",
              "    }\n",
              "</style>\n",
              "<table border=\"1\" class=\"dataframe\">\n",
              "  <thead>\n",
              "    <tr style=\"text-align: right;\">\n",
              "      <th></th>\n",
              "      <th>headline</th>\n",
              "      <th>article_link</th>\n",
              "      <th>date</th>\n",
              "      <th>\bauthors</th>\n",
              "      <th>abstract</th>\n",
              "    </tr>\n",
              "  </thead>\n",
              "  <tbody>\n",
              "    <tr>\n",
              "      <th>0</th>\n",
              "      <td>UIT at VBS 2022: An Unified and Interactive Vi...</td>\n",
              "      <td>https://link.springer.com/chapter/10.1007/978-...</td>\n",
              "      <td>15 March 2022</td>\n",
              "      <td>[[Khanh Ho, Vu Xuan Dinh, Hong-Quang Nguyen, K...</td>\n",
              "      <td>This paper introduces our multimedia retrieval...</td>\n",
              "    </tr>\n",
              "    <tr>\n",
              "      <th>1</th>\n",
              "      <td>Single-image crowd counting: a comparative sur...</td>\n",
              "      <td>https://link.springer.com/article/10.1007/s137...</td>\n",
              "      <td>30 October 2019</td>\n",
              "      <td>[[Vy Nguyen &amp; Thanh Duc Ngo]]</td>\n",
              "      <td>Crowd counting is an attracting computer visio...</td>\n",
              "    </tr>\n",
              "    <tr>\n",
              "      <th>2</th>\n",
              "      <td>Video instance search via spatial fusion of vi...</td>\n",
              "      <td>https://link.springer.com/article/10.1007/s137...</td>\n",
              "      <td>29 April 2019</td>\n",
              "      <td>[[Vinh-Tiep Nguyen, Duy Dinh Le, Thanh Duc Ngo...</td>\n",
              "      <td>Most popular systems for object instance searc...</td>\n",
              "    </tr>\n",
              "    <tr>\n",
              "      <th>3</th>\n",
              "      <td>Video Search Based on Semantic Extraction and ...</td>\n",
              "      <td>https://link.springer.com/chapter/10.1007/978-...</td>\n",
              "      <td>13 January 2018</td>\n",
              "      <td>[[Thanh-Dat Truong, Vinh-Tiep Nguyen, Trang-Vi...</td>\n",
              "      <td>In this paper, we propose a semantic concept-b...</td>\n",
              "    </tr>\n",
              "    <tr>\n",
              "      <th>4</th>\n",
              "      <td>How to Choose Deep Face Models for Surveillanc...</td>\n",
              "      <td>https://link.springer.com/chapter/10.1007/978-...</td>\n",
              "      <td>24 February 2018</td>\n",
              "      <td>[[Vy Nguyen, Tien Do, Vinh-Tiep Nguyen, Thanh ...</td>\n",
              "      <td>Face recognition suits well in situations that...</td>\n",
              "    </tr>\n",
              "    <tr>\n",
              "      <th>5</th>\n",
              "      <td>Person re-identification with mutual re-ranking</td>\n",
              "      <td>https://link.springer.com/article/10.1007/s405...</td>\n",
              "      <td>19 January 2017</td>\n",
              "      <td>[[Ngoc-Bao Nguyen, Vu-Hoang Nguyen, Thanh Duc ...</td>\n",
              "      <td>Person re-identification is the problem of ide...</td>\n",
              "    </tr>\n",
              "    <tr>\n",
              "      <th>6</th>\n",
              "      <td>Evaluation of Deep Models for Real-Time Small ...</td>\n",
              "      <td>https://link.springer.com/chapter/10.1007/978-...</td>\n",
              "      <td>28 October 2017</td>\n",
              "      <td>[[Phuoc Pham, Duy Nguyen, Tien Do, Thanh Duc N...</td>\n",
              "      <td>Real-time object detection is crucial for many...</td>\n",
              "    </tr>\n",
              "    <tr>\n",
              "      <th>7</th>\n",
              "      <td>Semantic Extraction and Object Proposal for Vi...</td>\n",
              "      <td>https://link.springer.com/chapter/10.1007/978-...</td>\n",
              "      <td>31 December 2016</td>\n",
              "      <td>[[Vinh-Tiep Nguyen &amp; Minh-Triet Tran], [Thanh ...</td>\n",
              "      <td>In this paper, we propose two approaches to de...</td>\n",
              "    </tr>\n",
              "    <tr>\n",
              "      <th>8</th>\n",
              "      <td>When face-tracking meets social networks: a st...</td>\n",
              "      <td>https://link.springer.com/article/10.1007/s411...</td>\n",
              "      <td>01 June 2016</td>\n",
              "      <td>[[Benjamin Renoust, Duy-Dinh Le &amp; Shin’Ichi Sa...</td>\n",
              "      <td>In the age of data processing, news videos are...</td>\n",
              "    </tr>\n",
              "    <tr>\n",
              "      <th>9</th>\n",
              "      <td>Cross-View Action Recognition by Projection-Ba...</td>\n",
              "      <td>https://link.springer.com/chapter/10.1007/978-...</td>\n",
              "      <td>04 February 2016</td>\n",
              "      <td>[[Chien-Quang Le], [Thanh Duc Ngo &amp; Duc Anh Du...</td>\n",
              "      <td>Challenging issue in cross-view action recogni...</td>\n",
              "    </tr>\n",
              "    <tr>\n",
              "      <th>10</th>\n",
              "      <td>Efficient Large Scale Image Classification via...</td>\n",
              "      <td>https://link.springer.com/chapter/10.1007/978-...</td>\n",
              "      <td>17 September 2016</td>\n",
              "      <td>[[Duy-Dinh Le, Tien-Dung Mai, Thanh Duc Ngo &amp; ...</td>\n",
              "      <td>There has been growing interest in reducing th...</td>\n",
              "    </tr>\n",
              "    <tr>\n",
              "      <th>11</th>\n",
              "      <td>NII-UIT Browser: A Multimodal Video Search System</td>\n",
              "      <td>https://link.springer.com/chapter/10.1007/978-...</td>\n",
              "      <td>[]</td>\n",
              "      <td>[[Thanh Duc Ngo, Vu Hoang Nguyen &amp; Duc Anh Duo...</td>\n",
              "      <td>We introduce an interactive system for searchi...</td>\n",
              "    </tr>\n",
              "    <tr>\n",
              "      <th>12</th>\n",
              "      <td>Learning Balanced Trees for Large Scale Image ...</td>\n",
              "      <td>https://link.springer.com/chapter/10.1007/978-...</td>\n",
              "      <td>21 August 2015</td>\n",
              "      <td>[[Tien-Dung Mai, Thanh Duc Ngo, Duy-Dinh Le, D...</td>\n",
              "      <td>The label tree is one of the popular approache...</td>\n",
              "    </tr>\n",
              "    <tr>\n",
              "      <th>13</th>\n",
              "      <td>NII-UIT: A Tool for Known Item Search by Seque...</td>\n",
              "      <td>https://link.springer.com/chapter/10.1007/978-...</td>\n",
              "      <td>[]</td>\n",
              "      <td>[[Thanh Duc Ngo, Vu Hoang Nguyen, Vu Lam &amp; Duc...</td>\n",
              "      <td>This paper presents an interactive tool for se...</td>\n",
              "    </tr>\n",
              "    <tr>\n",
              "      <th>14</th>\n",
              "      <td>Multimedia Event Detection Using Segment-Based...</td>\n",
              "      <td>https://link.springer.com/article/10.1007/s112...</td>\n",
              "      <td>30 July 2013</td>\n",
              "      <td>[[Sang Phan &amp; Thanh Duc Ngo], [Vu Lam &amp; Son Tr...</td>\n",
              "      <td>Multimedia event detection has become a popula...</td>\n",
              "    </tr>\n",
              "    <tr>\n",
              "      <th>15</th>\n",
              "      <td>NII-UIT-VBS: A Video Browsing Tool for Known I...</td>\n",
              "      <td>https://link.springer.com/chapter/10.1007/978-...</td>\n",
              "      <td>[]</td>\n",
              "      <td>[[Duy-Dinh Le &amp; Shin’ichi Satoh], [Thanh Duc N...</td>\n",
              "      <td>This paper introduces a video browsing tool fo...</td>\n",
              "    </tr>\n",
              "    <tr>\n",
              "      <th>16</th>\n",
              "      <td>Multimedia Event Detection Using Segment-Based...</td>\n",
              "      <td>https://link.springer.com/chapter/10.1007/978-...</td>\n",
              "      <td>[]</td>\n",
              "      <td>[[Sang Phan &amp; Thanh Duc Ngo], [Vu Lam &amp; Son Tr...</td>\n",
              "      <td>Detecting event in multimedia video has become...</td>\n",
              "    </tr>\n",
              "    <tr>\n",
              "      <th>17</th>\n",
              "      <td>Improving Image Categorization by Using Multip...</td>\n",
              "      <td>https://link.springer.com/chapter/10.1007/978-...</td>\n",
              "      <td>[]</td>\n",
              "      <td>[[Thanh Duc Ngo, Duy-Dinh Le &amp; Shin’ichi Satoh...</td>\n",
              "      <td>Image categorization is a challenging problem ...</td>\n",
              "    </tr>\n",
              "  </tbody>\n",
              "</table>\n",
              "</div>\n",
              "      <button class=\"colab-df-convert\" onclick=\"convertToInteractive('df-670e7435-579c-4f08-b0b9-9bd3c1daed84')\"\n",
              "              title=\"Convert this dataframe to an interactive table.\"\n",
              "              style=\"display:none;\">\n",
              "        \n",
              "  <svg xmlns=\"http://www.w3.org/2000/svg\" height=\"24px\"viewBox=\"0 0 24 24\"\n",
              "       width=\"24px\">\n",
              "    <path d=\"M0 0h24v24H0V0z\" fill=\"none\"/>\n",
              "    <path d=\"M18.56 5.44l.94 2.06.94-2.06 2.06-.94-2.06-.94-.94-2.06-.94 2.06-2.06.94zm-11 1L8.5 8.5l.94-2.06 2.06-.94-2.06-.94L8.5 2.5l-.94 2.06-2.06.94zm10 10l.94 2.06.94-2.06 2.06-.94-2.06-.94-.94-2.06-.94 2.06-2.06.94z\"/><path d=\"M17.41 7.96l-1.37-1.37c-.4-.4-.92-.59-1.43-.59-.52 0-1.04.2-1.43.59L10.3 9.45l-7.72 7.72c-.78.78-.78 2.05 0 2.83L4 21.41c.39.39.9.59 1.41.59.51 0 1.02-.2 1.41-.59l7.78-7.78 2.81-2.81c.8-.78.8-2.07 0-2.86zM5.41 20L4 18.59l7.72-7.72 1.47 1.35L5.41 20z\"/>\n",
              "  </svg>\n",
              "      </button>\n",
              "      \n",
              "  <style>\n",
              "    .colab-df-container {\n",
              "      display:flex;\n",
              "      flex-wrap:wrap;\n",
              "      gap: 12px;\n",
              "    }\n",
              "\n",
              "    .colab-df-convert {\n",
              "      background-color: #E8F0FE;\n",
              "      border: none;\n",
              "      border-radius: 50%;\n",
              "      cursor: pointer;\n",
              "      display: none;\n",
              "      fill: #1967D2;\n",
              "      height: 32px;\n",
              "      padding: 0 0 0 0;\n",
              "      width: 32px;\n",
              "    }\n",
              "\n",
              "    .colab-df-convert:hover {\n",
              "      background-color: #E2EBFA;\n",
              "      box-shadow: 0px 1px 2px rgba(60, 64, 67, 0.3), 0px 1px 3px 1px rgba(60, 64, 67, 0.15);\n",
              "      fill: #174EA6;\n",
              "    }\n",
              "\n",
              "    [theme=dark] .colab-df-convert {\n",
              "      background-color: #3B4455;\n",
              "      fill: #D2E3FC;\n",
              "    }\n",
              "\n",
              "    [theme=dark] .colab-df-convert:hover {\n",
              "      background-color: #434B5C;\n",
              "      box-shadow: 0px 1px 3px 1px rgba(0, 0, 0, 0.15);\n",
              "      filter: drop-shadow(0px 1px 2px rgba(0, 0, 0, 0.3));\n",
              "      fill: #FFFFFF;\n",
              "    }\n",
              "  </style>\n",
              "\n",
              "      <script>\n",
              "        const buttonEl =\n",
              "          document.querySelector('#df-670e7435-579c-4f08-b0b9-9bd3c1daed84 button.colab-df-convert');\n",
              "        buttonEl.style.display =\n",
              "          google.colab.kernel.accessAllowed ? 'block' : 'none';\n",
              "\n",
              "        async function convertToInteractive(key) {\n",
              "          const element = document.querySelector('#df-670e7435-579c-4f08-b0b9-9bd3c1daed84');\n",
              "          const dataTable =\n",
              "            await google.colab.kernel.invokeFunction('convertToInteractive',\n",
              "                                                     [key], {});\n",
              "          if (!dataTable) return;\n",
              "\n",
              "          const docLinkHtml = 'Like what you see? Visit the ' +\n",
              "            '<a target=\"_blank\" href=https://colab.research.google.com/notebooks/data_table.ipynb>data table notebook</a>'\n",
              "            + ' to learn more about interactive tables.';\n",
              "          element.innerHTML = '';\n",
              "          dataTable['output_type'] = 'display_data';\n",
              "          await google.colab.output.renderOutput(dataTable, element);\n",
              "          const docLink = document.createElement('div');\n",
              "          docLink.innerHTML = docLinkHtml;\n",
              "          element.appendChild(docLink);\n",
              "        }\n",
              "      </script>\n",
              "    </div>\n",
              "  </div>\n",
              "  "
            ]
          },
          "metadata": {},
          "execution_count": 57
        }
      ]
    }
  ]
}